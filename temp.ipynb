{
 "cells": [
  {
   "cell_type": "code",
   "execution_count": 1,
   "id": "e0cfda23",
   "metadata": {},
   "outputs": [],
   "source": [
    "from embeddings import get_token_embeddings_batch"
   ]
  },
  {
   "cell_type": "code",
   "execution_count": 2,
   "id": "776d4eea",
   "metadata": {},
   "outputs": [
    {
     "name": "stderr",
     "output_type": "stream",
     "text": [
      "/home/mihirathale/anaconda3/envs/myenv/lib/python3.9/site-packages/tqdm/auto.py:21: TqdmWarning: IProgress not found. Please update jupyter and ipywidgets. See https://ipywidgets.readthedocs.io/en/stable/user_install.html\n",
      "  from .autonotebook import tqdm as notebook_tqdm\n"
     ]
    }
   ],
   "source": [
    "from model import load_model\n",
    "\n",
    "tokenizer, model = load_model()"
   ]
  },
  {
   "cell_type": "code",
   "execution_count": 76,
   "id": "6b5e5baf",
   "metadata": {},
   "outputs": [],
   "source": [
    "import json\n",
    "\n",
    "docs = json.load(open(\"context_paras.json\"))"
   ]
  },
  {
   "cell_type": "code",
   "execution_count": 72,
   "id": "fe6c70c4",
   "metadata": {},
   "outputs": [],
   "source": [
    "docs = list(docs.values())"
   ]
  },
  {
   "cell_type": "code",
   "execution_count": 75,
   "id": "7e38c4dc",
   "metadata": {},
   "outputs": [],
   "source": [
    "import random\n",
    "\n",
    "doc_ids = random.sample([i for i in range(len(docs))], 1000)"
   ]
  },
  {
   "cell_type": "code",
   "execution_count": 77,
   "id": "38df54de",
   "metadata": {},
   "outputs": [],
   "source": [
    "titles = list(docs.keys())\n",
    "docs = list(docs.values())"
   ]
  },
  {
   "cell_type": "code",
   "execution_count": 78,
   "id": "2ede9fcf",
   "metadata": {},
   "outputs": [],
   "source": [
    "documents = []\n",
    "titles_ = []\n",
    "\n",
    "for i in doc_ids:\n",
    "    documents.append(docs[i])\n",
    "    titles_.append(titles[i])"
   ]
  },
  {
   "cell_type": "code",
   "execution_count": 80,
   "id": "4731e955",
   "metadata": {},
   "outputs": [
    {
     "data": {
      "text/plain": [
       "(1000, 1000)"
      ]
     },
     "execution_count": 80,
     "metadata": {},
     "output_type": "execute_result"
    }
   ],
   "source": [
    "len(documents), len(titles_)"
   ]
  },
  {
   "cell_type": "code",
   "execution_count": 82,
   "id": "f46da7da",
   "metadata": {},
   "outputs": [
    {
     "data": {
      "text/plain": [
       "('Rockstar Games Social Club (Social Club) is a digital rights management, multiplayer and communications service provided by Rockstar Games for use with their latest generation of games.  Rockstar Games Social Club was first announced on 27 March 2008, with pre-registration beginning on 14 April 2008.  However, that date was moved to 17 April 2008.  The name is a reference to organized crime, which commonly uses the term \"social club\" to describe a meeting place or hideout.  The service received a major update in 2012, prior to the release of \"Max Payne 3\", with the addition of social networking features and a \"crews\" system that allows players to form groups and combine their achievements to unlock bonus features.',\n",
       " 'Rockstar Games Social Club')"
      ]
     },
     "execution_count": 82,
     "metadata": {},
     "output_type": "execute_result"
    }
   ],
   "source": [
    "documents[0], titles_[0]"
   ]
  },
  {
   "cell_type": "code",
   "execution_count": 83,
   "id": "03c3133a",
   "metadata": {},
   "outputs": [],
   "source": [
    "with open(\"documents.json\", \"w\") as f:\n",
    "    json.dump(documents, f)\n",
    "\n",
    "with open(\"titles.json\", \"w\") as f:\n",
    "    json.dump(titles_, f)\n"
   ]
  },
  {
   "cell_type": "code",
   "execution_count": 84,
   "id": "80f8aefc",
   "metadata": {},
   "outputs": [],
   "source": [
    "from langchain.text_splitter import RecursiveCharacterTextSplitter\n",
    "from langchain.document_loaders import PyPDFLoader\n",
    "from langchain.embeddings import OpenAIEmbeddings\n",
    "from langchain.vectorstores import Chroma\n",
    "\n",
    "from transformers import AutoTokenizer, AutoModel"
   ]
  },
  {
   "cell_type": "code",
   "execution_count": null,
   "id": "4826f227",
   "metadata": {},
   "outputs": [],
   "source": []
  },
  {
   "cell_type": "code",
   "execution_count": 88,
   "id": "94781925",
   "metadata": {},
   "outputs": [],
   "source": [
    "loader = PyPDFLoader(\"Harry.pdf\")\n",
    "pages = loader.load_and_split()\n",
    "text_splitter = RecursiveCharacterTextSplitter.from_huggingface_tokenizer(\n",
    "    tokenizer=AutoTokenizer.from_pretrained(\"sentence-transformers/all-MiniLM-L12-v2\"),\n",
    "    chunk_size=256,\n",
    "    chunk_overlap=16,\n",
    "    strip_whitespace=True,\n",
    ")\n",
    "docs = text_splitter.split_documents(pages)\n"
   ]
  },
  {
   "cell_type": "code",
   "execution_count": 53,
   "id": "81ca7ff2",
   "metadata": {},
   "outputs": [
    {
     "data": {
      "text/plain": [
       "Document(page_content='When a letter arrives for unhappy but  \\nordinary Harry Potter, a decade-old secret  \\nis revealed to him. His parents were  \\nwizards, killed by a Dark Lord’s curse  \\nwhen Harry was just a baby, and which he  \\nsomehow survived. Escaping from his  \\nunbearable Muggle guardians to Hogwarts,  \\na wizarding school brimming with ghosts  \\nand enchantments, Harry stumbles into a  \\nsinister adventure when he finds a three- \\nheaded dog guarding a room on the third  \\nfloor. Then he hears of a missing stone  \\nwith astonishing powers which could be  \\nvaluable, dangerous, or both.  \\n \\n‘Funny, imaginative, magical ... Rowling has  \\nwoken up a whole generation to reading. In  \\nthe 2020s, thirty-something book-lovers  \\nwill know each other by smug references  \\nto Diagon Alley and Quidditch’ The Times', metadata={'source': 'Harry.pdf', 'page': 1})"
      ]
     },
     "execution_count": 53,
     "metadata": {},
     "output_type": "execute_result"
    }
   ],
   "source": [
    "docs[0]"
   ]
  },
  {
   "cell_type": "code",
   "execution_count": 89,
   "id": "b674a709",
   "metadata": {},
   "outputs": [],
   "source": [
    "doc_content = [doc.page_content for doc in docs]"
   ]
  },
  {
   "cell_type": "code",
   "execution_count": 90,
   "id": "62ea3133",
   "metadata": {},
   "outputs": [],
   "source": [
    "gryffindor_paragraphs = [\n",
    "    \"Gryffindor House values courage, bravery, and determination above all. Its emblematic animal is the lion, symbolizing fierce loyalty and boldness.\",\n",
    "    \"The common room of Gryffindor is located in a cozy tower, guarded by the Fat Lady who requires a password to enter. Inside, warm fireplaces and scarlet tapestries welcome the daring students.\",\n",
    "    \"Harry Potter, Hermione Granger, and Ron Weasley all belonged to Gryffindor, making the house famous among Hogwarts alumni. Their heroic feats embody the house’s core values.\",\n",
    "    \"The house founder, Godric Gryffindor, was known for pulling his sword from the Sorting Hat in times of need. His legacy of bravery still empowers young witches and wizards.\",\n",
    "    \"Gryffindors are often seen as reckless by other houses, but they see it as bold action in the face of fear. They’re known to charge into danger when others hesitate.\",\n",
    "    \"The Gryffindor table in the Great Hall is always filled with laughter, loud cheers, and friendly competition. House pride runs deep, especially during the annual Quidditch Cup.\",\n",
    "    \"Gryffindor’s rivalry with Slytherin fuels much of Hogwarts’ drama, dating back to disagreements between Godric and Salazar. These tensions still echo in friendly (and sometimes not-so-friendly) duels.\",\n",
    "    \"Scarlet and gold, the house colors, are worn with pride during every celebration and sporting event. The lion roars not just from the banners but from every student’s heart.\",\n",
    "    \"Bravery in Gryffindor doesn't always mean fighting dark wizards; it can be standing up to your friends or speaking truth to power. Even quiet courage is honored within the tower.\",\n",
    "    \"First years sorted into Gryffindor often feel an immediate sense of belonging, inspired by the tales of past heroes. From the moment they wear the lion's badge, they begin their legacy.\"\n",
    "]\n"
   ]
  },
  {
   "cell_type": "code",
   "execution_count": 91,
   "id": "b63ba807",
   "metadata": {},
   "outputs": [],
   "source": [
    "doc_content.extend(gryffindor_paragraphs)\n"
   ]
  },
  {
   "cell_type": "code",
   "execution_count": 92,
   "id": "7fddec1e",
   "metadata": {},
   "outputs": [],
   "source": [
    "with open(\"harry_docs.json\", \"w\") as f:\n",
    "    json.dump(doc_content, f)"
   ]
  },
  {
   "cell_type": "code",
   "execution_count": 43,
   "id": "651a89e3",
   "metadata": {},
   "outputs": [
    {
     "name": "stderr",
     "output_type": "stream",
     "text": [
      "Warning: model not found. Using cl100k_base encoding.\n"
     ]
    }
   ],
   "source": [
    "embedding_model = OpenAIEmbeddings(model=\"text-embedding-3-large\")\n",
    "\n",
    "query_embeddings = embedding_model.embed_query(doc_content[0])"
   ]
  },
  {
   "cell_type": "code",
   "execution_count": 93,
   "id": "1aaeced0",
   "metadata": {},
   "outputs": [
    {
     "name": "stderr",
     "output_type": "stream",
     "text": [
      "Warning: model not found. Using cl100k_base encoding.\n"
     ]
    }
   ],
   "source": [
    "doc_embeddings = embedding_model.embed_documents(doc_content)"
   ]
  },
  {
   "cell_type": "code",
   "execution_count": 50,
   "id": "a8c0af69",
   "metadata": {},
   "outputs": [],
   "source": [
    "import numpy as np\n",
    "\n",
    "element_wise = np.array(query_embeddings) * np.array(doc_embeddings[0])"
   ]
  },
  {
   "cell_type": "code",
   "execution_count": 94,
   "id": "64221ecc",
   "metadata": {},
   "outputs": [
    {
     "data": {
      "text/plain": [
       "707"
      ]
     },
     "execution_count": 94,
     "metadata": {},
     "output_type": "execute_result"
    }
   ],
   "source": [
    "len(doc_embeddings)"
   ]
  },
  {
   "cell_type": "code",
   "execution_count": 52,
   "id": "68d8d2a2",
   "metadata": {},
   "outputs": [
    {
     "data": {
      "text/plain": [
       "(3072,)"
      ]
     },
     "execution_count": 52,
     "metadata": {},
     "output_type": "execute_result"
    }
   ],
   "source": [
    "element_wise.shape"
   ]
  },
  {
   "cell_type": "code",
   "execution_count": 97,
   "id": "c1b9c04b",
   "metadata": {},
   "outputs": [],
   "source": [
    "import numpy as np\n",
    "\n",
    "numpy_embeddings = np.array(doc_embeddings)"
   ]
  },
  {
   "cell_type": "code",
   "execution_count": 98,
   "id": "a7c5caaf",
   "metadata": {},
   "outputs": [],
   "source": [
    "np.save(\"embeddings.npy\", numpy_embeddings)"
   ]
  },
  {
   "cell_type": "code",
   "execution_count": null,
   "id": "6f186f6e",
   "metadata": {},
   "outputs": [],
   "source": []
  }
 ],
 "metadata": {
  "kernelspec": {
   "display_name": "myenv",
   "language": "python",
   "name": "python3"
  },
  "language_info": {
   "codemirror_mode": {
    "name": "ipython",
    "version": 3
   },
   "file_extension": ".py",
   "mimetype": "text/x-python",
   "name": "python",
   "nbconvert_exporter": "python",
   "pygments_lexer": "ipython3",
   "version": "3.9.19"
  }
 },
 "nbformat": 4,
 "nbformat_minor": 5
}
